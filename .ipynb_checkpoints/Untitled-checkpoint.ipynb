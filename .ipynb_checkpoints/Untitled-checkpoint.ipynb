{
 "cells": [
  {
   "cell_type": "code",
   "execution_count": 3,
   "id": "2bd3cca3",
   "metadata": {},
   "outputs": [],
   "source": [
    "import nltk\n",
    "from nltk.tokenize import word_tokenize\n",
    "\n",
    "# article = \"orem Ipsum is simply dummy text of the printing and typesetting industry. Lorem Ipsum has been the industry's standard dummy text ever since the 1500s, when an unknown printer took a galley of type and scrambled it to make a type specimen book. It has survived not only five centuries, but also the leap into electronic typesetting, remaining essentially unchanged. It was popularised in the 1960s with the release of Letraset sheets containing Lorem Ipsum passages, and more recently with desktop publishing software like Aldus PageMaker including versions of Lorem Ipsum.Contrary to popular belief, Lorem Ipsum is not simply random text. It has roots in a piece of classical Latin literature from 45 BC, making it over 2000 years old. Richard McClintock, a Latin professor at Hampden-Sydney College in Virginia, looked up one of the more obscure Latin words, consectetur, from a Lorem Ipsum passage, and going through the cites of the word in classical literature, discovered the undoubtable source. Lorem Ipsum comes from sections 1.10.32 and 1.10.33 of \"de Finibus Bonorum et Malorum\" (The Extremes of Good and Evil) by Cicero, written in 45 BC. This book is a treatise on the theory of ethics, very popular during the Renaissance. The first line of Lorem Ipsum, \"Lorem ipsum dolor sit amet..\", comes from a line in section 1.10.32.The standard chunk of Lorem Ipsum used since the 1500s is reproduced below for those interested. Sections 1.10.32 and 1.10.33 from \"de Finibus Bonorum et Malorum\" by Cicero are also reproduced in their exact original form, accompanied by English versions from the 1914 translation by H. Rackham.There are many variations of passages of Lorem Ipsum available, but the majority have suffered alteration in some form, by injected humour, or randomised words which don't look even slightly believable. If you are going to use a passage of Lorem Ipsum, you need to be sure there isn't anything embarrassing hidden in the middle of text. All the Lorem Ipsum generators on the Internet tend to repeat predefined chunks as necessary, making this the first true generator on the Internet. It uses a dictionary of over 200 Latin words, combined with a handful of model sentence structures, to generate Lorem Ipsum which looks reasonable. The generated Lorem Ipsum is therefore always free from repetition, injected humour, or non-characteristic words etc.\"\n",
    "article = \"The first ever iPhone was launched in 2007 by Apple Inc. The iPhone revolutionized the mobile phone industry and brought a new level of technology to the market. The iPhone had a large impact on the way people use their phones and changed the way people communicate with each other. Today, there are several different models of iPhones available with even more advanced features and capabilities\""
   ]
  },
  {
   "cell_type": "code",
   "execution_count": 4,
   "id": "c048a011",
   "metadata": {},
   "outputs": [
    {
     "name": "stdout",
     "output_type": "stream",
     "text": [
      "['The', 'first', 'ever', 'iPhone', 'was', 'launched', 'in', '2007', 'by', 'Apple', 'Inc', '.', 'The', 'iPhone', 'revolutionized', 'the', 'mobile', 'phone', 'industry', 'and', 'brought', 'a', 'new', 'level', 'of', 'technology', 'to', 'the', 'market', '.', 'The', 'iPhone', 'had', 'a', 'large', 'impact', 'on', 'the', 'way', 'people', 'use', 'their', 'phones', 'and', 'changed', 'the', 'way', 'people', 'communicate', 'with', 'each', 'other', '.', 'Today', ',', 'there', 'are', 'several', 'different', 'models', 'of', 'iPhones', 'available', 'with', 'even', 'more', 'advanced', 'features', 'and', 'capabilities']\n"
     ]
    }
   ],
   "source": [
    "article_tokens = word_tokenize(article)\n",
    "print(article_tokens)"
   ]
  },
  {
   "cell_type": "code",
   "execution_count": 6,
   "id": "c16e810d",
   "metadata": {},
   "outputs": [],
   "source": [
    "#lowering the case :\n",
    "\n",
    "lower_article_tokens = [token.lower() for token in article_tokens]\n",
    "# lower_highlights_tokens = [token.lower() for token in highlights_tokens]"
   ]
  },
  {
   "cell_type": "code",
   "execution_count": 7,
   "id": "e16af58b",
   "metadata": {},
   "outputs": [],
   "source": [
    "#remove punctuations:\n",
    "\n",
    "import string\n",
    "\n",
    "def remove_punctuation(text):\n",
    "    # create a translation table to remove punctuation and special characters\n",
    "    table = str.maketrans('', '', string.punctuation)\n",
    "    \n",
    "    # remove the punctuation and special characters from the text\n",
    "    cleaned_text = text.translate(table)\n",
    "    \n",
    "    return cleaned_text\n",
    "\n",
    "# remove punctuation and special characters from article_tokens\n",
    "p_removed_article_tokens = [remove_punctuation(token) for token in lower_article_tokens]\n",
    "\n",
    "# remove punctuation and special characters from highlights_tokens\n",
    "# p_removed_highlights_tokens = [remove_punctuation(token) for token in lower_highlights_tokens]\n",
    "\n"
   ]
  },
  {
   "cell_type": "code",
   "execution_count": 8,
   "id": "30a097d3",
   "metadata": {},
   "outputs": [],
   "source": [
    "#removing stopwords\n",
    "\n",
    "from nltk.corpus import stopwords\n",
    "\n",
    "stop_words = set(stopwords.words(\"english\"))\n",
    "\n",
    "filtered_article_tokens = [word for word in p_removed_article_tokens if word.lower() not in stop_words]\n",
    "# filtered_highlights_tokens = [word for word in p_removed_highlights_tokens if word.lower() not in stop_words]\n"
   ]
  },
  {
   "cell_type": "code",
   "execution_count": null,
   "id": "591876d0",
   "metadata": {},
   "outputs": [],
   "source": [
    "#stemming\n",
    "\n",
    "from nltk.stem import PorterStemmer\n",
    "\n",
    "stemmer = PorterStemmer()\n",
    "\n",
    "article_stemmed_words = [stemmer.stem(word) for word in filtered_article_tokens]\n",
    "highlights_stemmed_words = [stemmer.stem(word) for word in filtered_article_tokens]"
   ]
  }
 ],
 "metadata": {
  "kernelspec": {
   "display_name": "Python 3 (ipykernel)",
   "language": "python",
   "name": "python3"
  },
  "language_info": {
   "codemirror_mode": {
    "name": "ipython",
    "version": 3
   },
   "file_extension": ".py",
   "mimetype": "text/x-python",
   "name": "python",
   "nbconvert_exporter": "python",
   "pygments_lexer": "ipython3",
   "version": "3.10.5"
  }
 },
 "nbformat": 4,
 "nbformat_minor": 5
}
